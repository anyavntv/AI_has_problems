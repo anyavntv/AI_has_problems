{
 "cells": [
  {
   "cell_type": "code",
   "execution_count": 16,
   "metadata": {},
   "outputs": [
    {
     "name": "stdout",
     "output_type": "stream",
     "text": [
      "Accuracy: 1.0\n",
      "Classification Report:\n",
      "                  precision    recall  f1-score   support\n",
      "\n",
      "    Iris-setosa       1.00      1.00      1.00        10\n",
      "Iris-versicolor       1.00      1.00      1.00         9\n",
      " Iris-virginica       1.00      1.00      1.00        11\n",
      "\n",
      "       accuracy                           1.00        30\n",
      "      macro avg       1.00      1.00      1.00        30\n",
      "   weighted avg       1.00      1.00      1.00        30\n",
      "\n"
     ]
    }
   ],
   "source": [
    "# Імпортуємо необхідні бібліотеки\n",
    "import pandas as pd\n",
    "from sklearn.model_selection import train_test_split\n",
    "from sklearn.neighbors import KNeighborsClassifier\n",
    "from sklearn.metrics import accuracy_score, classification_report, confusion_matrix\n",
    "\n",
    "\n",
    "iris = pd.read_csv('IRIS.csv')\n",
    "\n",
    "X = iris.iloc[:, :-1]  # Ознаки (всі стовпці, крім останнього)\n",
    "Y = iris.iloc[:, -1]   # Цільова змінна (останній стовпець)\n",
    "\n",
    "\n",
    "# Розділення даних на тренувальний і тестовий набори\n",
    "X_train, X_test, y_train, y_test = train_test_split(X, Y, test_size=0.2, random_state=42)\n",
    "\n",
    "# Ініціалізація моделі KNN\n",
    "k = 3  # Кількість сусідів\n",
    "knn = KNeighborsClassifier(n_neighbors=k)\n",
    "\n",
    "# Навчання моделі на тренувальних даних\n",
    "knn.fit(X_train, y_train)\n",
    "\n",
    "# Прогнози на тестовому наборі\n",
    "y_pred = knn.predict(X_test)\n",
    "\n",
    "# Оцінка результатів класифікаці\n",
    "accuracy = accuracy_score(y_test, y_pred)\n",
    "report = classification_report(y_test, y_pred)\n",
    "\n",
    "print(\"Accuracy:\", accuracy)\n",
    "print(\"Classification Report:\\n\", report)\n",
    "\n"
   ]
  }
 ],
 "metadata": {
  "kernelspec": {
   "display_name": "Python 3",
   "language": "python",
   "name": "python3"
  },
  "language_info": {
   "name": "python",
   "version": "3.11.4"
  },
  "orig_nbformat": 4
 },
 "nbformat": 4,
 "nbformat_minor": 2
}
