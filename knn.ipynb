{
 "cells": [
  {
   "cell_type": "code",
   "execution_count": 1,
   "metadata": {},
   "outputs": [],
   "source": [
    "# Імпортуємо необхідні бібліотеки\n",
    "import pandas as pd\n",
    "from sklearn.model_selection import train_test_split\n",
    "from sklearn.neighbors import KNeighborsClassifier\n",
    "from sklearn.metrics import accuracy_score, classification_report, confusion_matrix\n",
    "\n",
    "\n",
    "iris = pd.read_csv('IRIS.csv')\n",
    "\n",
    "X = iris.iloc[:, :-1]  # Ознаки (всі стовпці, крім останнього)\n",
    "Y = iris.iloc[:, -1]   # Цільова змінна (останній стовпець)\n",
    "\n",
    "\n",
    "# Розділення даних на тренувальний і тестовий набори\n",
    "X_train, X_test, y_train, y_test = train_test_split(X, Y, test_size=0.2, random_state=42)\n"
   ]
  },
  {
   "cell_type": "code",
   "execution_count": 2,
   "metadata": {},
   "outputs": [
    {
     "name": "stdout",
     "output_type": "stream",
     "text": [
      "Accuracy: 1.0\n",
      "Classification Report:\n",
      "                  precision    recall  f1-score   support\n",
      "\n",
      "    Iris-setosa       1.00      1.00      1.00        10\n",
      "Iris-versicolor       1.00      1.00      1.00         9\n",
      " Iris-virginica       1.00      1.00      1.00        11\n",
      "\n",
      "       accuracy                           1.00        30\n",
      "      macro avg       1.00      1.00      1.00        30\n",
      "   weighted avg       1.00      1.00      1.00        30\n",
      "\n"
     ]
    }
   ],
   "source": [
    "\n",
    "\n",
    "# Ініціалізація моделі KNN\n",
    "k = 3  # Кількість сусідів\n",
    "knn = KNeighborsClassifier(n_neighbors=k)\n",
    "\n",
    "# Навчання моделі на тренувальних даних\n",
    "knn.fit(X_train, y_train)\n",
    "\n",
    "# Прогнози на тестовому наборі\n",
    "y_pred = knn.predict(X_test)\n",
    "\n",
    "# Оцінка результатів класифікаці\n",
    "accuracy = accuracy_score(y_test, y_pred)\n",
    "report = classification_report(y_test, y_pred)\n",
    "\n",
    "print(\"Accuracy:\", accuracy)\n",
    "print(\"Classification Report:\\n\", report)\n",
    "\n"
   ]
  },
  {
   "cell_type": "code",
   "execution_count": 8,
   "metadata": {},
   "outputs": [
    {
     "name": "stdout",
     "output_type": "stream",
     "text": [
      "Accuracy: 1.0\n",
      "Classification Report:\n",
      "               precision    recall  f1-score   support\n",
      "\n",
      "           0       1.00      1.00      1.00        19\n",
      "           1       1.00      1.00      1.00        13\n",
      "           2       1.00      1.00      1.00        13\n",
      "\n",
      "    accuracy                           1.00        45\n",
      "   macro avg       1.00      1.00      1.00        45\n",
      "weighted avg       1.00      1.00      1.00        45\n",
      "\n"
     ]
    }
   ],
   "source": [
    "\n",
    "import numpy as np\n",
    "from sklearn.datasets import load_iris\n",
    "from sklearn.model_selection import train_test_split\n",
    "\n",
    "# Завантаження датасету Iris\n",
    "iris = load_iris()\n",
    "X = iris.data  # Ознаки\n",
    "y = iris.target  # Класи\n",
    "\n",
    "# Розділення даних на навчальний і тестовий набори\n",
    "X_train, X_test, y_train, y_test = train_test_split(X, y, test_size=0.3, random_state=42)\n",
    "\n",
    "# Визначення функції Евклідової відстані\n",
    "def euclidean_distance(a, b):\n",
    "    return np.sqrt(np.sum((a - b) ** 2))\n",
    "\n",
    "# Реалізація K-NN\n",
    "def knn_predict(X_train, y_train, x_new, k):\n",
    "    distances = [euclidean_distance(x_new, x) for x in X_train]\n",
    "    nearest_indices = np.argsort(distances)[:k]\n",
    "    nearest_classes = [y_train[i] for i in nearest_indices]\n",
    "    predicted_class = np.bincount(nearest_classes).argmax()\n",
    "    return predicted_class\n",
    "\n",
    "# Прогнозування класів для тестових даних\n",
    "k = 3  # Кількість найближчих сусідів\n",
    "y_pred = [knn_predict(X_train, y_train, x, k) for x in X_test]\n",
    "\n",
    "# Оцінка \n",
    "accuracy = accuracy_score(y_test, y_pred)\n",
    "report = classification_report(y_test, y_pred)\n",
    "\n",
    "print(\"Accuracy:\", accuracy)\n",
    "print(\"Classification Report:\\n\", report)\n",
    "\n"
   ]
  }
 ],
 "metadata": {
  "kernelspec": {
   "display_name": "Python 3",
   "language": "python",
   "name": "python3"
  },
  "language_info": {
   "codemirror_mode": {
    "name": "ipython",
    "version": 3
   },
   "file_extension": ".py",
   "mimetype": "text/x-python",
   "name": "python",
   "nbconvert_exporter": "python",
   "pygments_lexer": "ipython3",
   "version": "3.11.4"
  },
  "orig_nbformat": 4
 },
 "nbformat": 4,
 "nbformat_minor": 2
}
